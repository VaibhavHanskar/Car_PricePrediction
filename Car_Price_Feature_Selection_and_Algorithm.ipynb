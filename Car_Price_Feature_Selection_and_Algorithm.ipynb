{
 "cells": [
  {
   "cell_type": "markdown",
   "id": "19e3e14b",
   "metadata": {},
   "source": [
    "# Feature_Selection"
   ]
  },
  {
   "cell_type": "code",
   "execution_count": 2,
   "id": "580287a4",
   "metadata": {},
   "outputs": [],
   "source": [
    "import pandas as pd\n",
    "import numpy as np"
   ]
  },
  {
   "cell_type": "code",
   "execution_count": 3,
   "id": "ae454da8",
   "metadata": {},
   "outputs": [],
   "source": [
    "df = pd.read_csv('clean_data.csv')\n",
    "pd.set_option('display.max_columns',None)"
   ]
  },
  {
   "cell_type": "code",
   "execution_count": 4,
   "id": "9b5315d2",
   "metadata": {},
   "outputs": [],
   "source": [
    "from sklearn.linear_model import Lasso"
   ]
  },
  {
   "cell_type": "code",
   "execution_count": 5,
   "id": "481340bc",
   "metadata": {},
   "outputs": [],
   "source": [
    "from sklearn.feature_selection import SelectFromModel"
   ]
  },
  {
   "cell_type": "code",
   "execution_count": 6,
   "id": "296e763d",
   "metadata": {},
   "outputs": [
    {
     "data": {
      "text/html": [
       "<div>\n",
       "<style scoped>\n",
       "    .dataframe tbody tr th:only-of-type {\n",
       "        vertical-align: middle;\n",
       "    }\n",
       "\n",
       "    .dataframe tbody tr th {\n",
       "        vertical-align: top;\n",
       "    }\n",
       "\n",
       "    .dataframe thead th {\n",
       "        text-align: right;\n",
       "    }\n",
       "</style>\n",
       "<table border=\"1\" class=\"dataframe\">\n",
       "  <thead>\n",
       "    <tr style=\"text-align: right;\">\n",
       "      <th></th>\n",
       "      <th>Unnamed: 0</th>\n",
       "      <th>car_ID</th>\n",
       "      <th>symboling</th>\n",
       "      <th>CarName</th>\n",
       "      <th>fueltype</th>\n",
       "      <th>aspiration</th>\n",
       "      <th>doornumber</th>\n",
       "      <th>carbody</th>\n",
       "      <th>drivewheel</th>\n",
       "      <th>enginelocation</th>\n",
       "      <th>wheelbase</th>\n",
       "      <th>carlength</th>\n",
       "      <th>carwidth</th>\n",
       "      <th>carheight</th>\n",
       "      <th>curbweight</th>\n",
       "      <th>enginetype</th>\n",
       "      <th>cylindernumber</th>\n",
       "      <th>enginesize</th>\n",
       "      <th>fuelsystem</th>\n",
       "      <th>boreratio</th>\n",
       "      <th>stroke</th>\n",
       "      <th>compressionratio</th>\n",
       "      <th>horsepower</th>\n",
       "      <th>peakrpm</th>\n",
       "      <th>citympg</th>\n",
       "      <th>highwaympg</th>\n",
       "      <th>price</th>\n",
       "    </tr>\n",
       "  </thead>\n",
       "  <tbody>\n",
       "    <tr>\n",
       "      <th>0</th>\n",
       "      <td>0</td>\n",
       "      <td>1</td>\n",
       "      <td>3</td>\n",
       "      <td>Rare</td>\n",
       "      <td>1.0</td>\n",
       "      <td>1</td>\n",
       "      <td>2</td>\n",
       "      <td>1</td>\n",
       "      <td>1</td>\n",
       "      <td>1</td>\n",
       "      <td>4.484132</td>\n",
       "      <td>5.128715</td>\n",
       "      <td>4.160444</td>\n",
       "      <td>3.887730</td>\n",
       "      <td>2548</td>\n",
       "      <td>1</td>\n",
       "      <td>4</td>\n",
       "      <td>130</td>\n",
       "      <td>1</td>\n",
       "      <td>1.244155</td>\n",
       "      <td>0.985817</td>\n",
       "      <td>2.197225</td>\n",
       "      <td>111</td>\n",
       "      <td>5000</td>\n",
       "      <td>21</td>\n",
       "      <td>27</td>\n",
       "      <td>9.510075</td>\n",
       "    </tr>\n",
       "    <tr>\n",
       "      <th>1</th>\n",
       "      <td>1</td>\n",
       "      <td>2</td>\n",
       "      <td>3</td>\n",
       "      <td>Rare</td>\n",
       "      <td>1.0</td>\n",
       "      <td>1</td>\n",
       "      <td>2</td>\n",
       "      <td>1</td>\n",
       "      <td>1</td>\n",
       "      <td>1</td>\n",
       "      <td>4.484132</td>\n",
       "      <td>5.128715</td>\n",
       "      <td>4.160444</td>\n",
       "      <td>3.887730</td>\n",
       "      <td>2548</td>\n",
       "      <td>1</td>\n",
       "      <td>4</td>\n",
       "      <td>130</td>\n",
       "      <td>1</td>\n",
       "      <td>1.244155</td>\n",
       "      <td>0.985817</td>\n",
       "      <td>2.197225</td>\n",
       "      <td>111</td>\n",
       "      <td>5000</td>\n",
       "      <td>21</td>\n",
       "      <td>27</td>\n",
       "      <td>9.711116</td>\n",
       "    </tr>\n",
       "    <tr>\n",
       "      <th>2</th>\n",
       "      <td>2</td>\n",
       "      <td>3</td>\n",
       "      <td>1</td>\n",
       "      <td>Rare</td>\n",
       "      <td>1.0</td>\n",
       "      <td>1</td>\n",
       "      <td>2</td>\n",
       "      <td>2</td>\n",
       "      <td>1</td>\n",
       "      <td>1</td>\n",
       "      <td>4.548600</td>\n",
       "      <td>5.142832</td>\n",
       "      <td>4.182050</td>\n",
       "      <td>3.958907</td>\n",
       "      <td>2823</td>\n",
       "      <td>1</td>\n",
       "      <td>6</td>\n",
       "      <td>152</td>\n",
       "      <td>1</td>\n",
       "      <td>0.985817</td>\n",
       "      <td>1.244155</td>\n",
       "      <td>2.197225</td>\n",
       "      <td>154</td>\n",
       "      <td>5000</td>\n",
       "      <td>19</td>\n",
       "      <td>26</td>\n",
       "      <td>9.711116</td>\n",
       "    </tr>\n",
       "    <tr>\n",
       "      <th>3</th>\n",
       "      <td>3</td>\n",
       "      <td>4</td>\n",
       "      <td>2</td>\n",
       "      <td>Rare</td>\n",
       "      <td>1.0</td>\n",
       "      <td>1</td>\n",
       "      <td>4</td>\n",
       "      <td>3</td>\n",
       "      <td>2</td>\n",
       "      <td>1</td>\n",
       "      <td>4.603168</td>\n",
       "      <td>5.173887</td>\n",
       "      <td>4.192680</td>\n",
       "      <td>3.994524</td>\n",
       "      <td>2337</td>\n",
       "      <td>2</td>\n",
       "      <td>4</td>\n",
       "      <td>109</td>\n",
       "      <td>1</td>\n",
       "      <td>1.160021</td>\n",
       "      <td>1.223775</td>\n",
       "      <td>2.302585</td>\n",
       "      <td>102</td>\n",
       "      <td>5500</td>\n",
       "      <td>24</td>\n",
       "      <td>30</td>\n",
       "      <td>9.543235</td>\n",
       "    </tr>\n",
       "    <tr>\n",
       "      <th>4</th>\n",
       "      <td>4</td>\n",
       "      <td>5</td>\n",
       "      <td>2</td>\n",
       "      <td>Rare</td>\n",
       "      <td>1.0</td>\n",
       "      <td>1</td>\n",
       "      <td>4</td>\n",
       "      <td>3</td>\n",
       "      <td>3</td>\n",
       "      <td>1</td>\n",
       "      <td>4.599152</td>\n",
       "      <td>5.173887</td>\n",
       "      <td>4.195697</td>\n",
       "      <td>3.994524</td>\n",
       "      <td>2824</td>\n",
       "      <td>2</td>\n",
       "      <td>1</td>\n",
       "      <td>136</td>\n",
       "      <td>1</td>\n",
       "      <td>1.160021</td>\n",
       "      <td>1.223775</td>\n",
       "      <td>2.079442</td>\n",
       "      <td>115</td>\n",
       "      <td>5500</td>\n",
       "      <td>18</td>\n",
       "      <td>22</td>\n",
       "      <td>9.767095</td>\n",
       "    </tr>\n",
       "  </tbody>\n",
       "</table>\n",
       "</div>"
      ],
      "text/plain": [
       "   Unnamed: 0  car_ID  symboling CarName  fueltype  aspiration  doornumber  \\\n",
       "0           0       1          3    Rare       1.0           1           2   \n",
       "1           1       2          3    Rare       1.0           1           2   \n",
       "2           2       3          1    Rare       1.0           1           2   \n",
       "3           3       4          2    Rare       1.0           1           4   \n",
       "4           4       5          2    Rare       1.0           1           4   \n",
       "\n",
       "   carbody  drivewheel  enginelocation  wheelbase  carlength  carwidth  \\\n",
       "0        1           1               1   4.484132   5.128715  4.160444   \n",
       "1        1           1               1   4.484132   5.128715  4.160444   \n",
       "2        2           1               1   4.548600   5.142832  4.182050   \n",
       "3        3           2               1   4.603168   5.173887  4.192680   \n",
       "4        3           3               1   4.599152   5.173887  4.195697   \n",
       "\n",
       "   carheight  curbweight  enginetype  cylindernumber  enginesize  fuelsystem  \\\n",
       "0   3.887730        2548           1               4         130           1   \n",
       "1   3.887730        2548           1               4         130           1   \n",
       "2   3.958907        2823           1               6         152           1   \n",
       "3   3.994524        2337           2               4         109           1   \n",
       "4   3.994524        2824           2               1         136           1   \n",
       "\n",
       "   boreratio    stroke  compressionratio  horsepower  peakrpm  citympg  \\\n",
       "0   1.244155  0.985817          2.197225         111     5000       21   \n",
       "1   1.244155  0.985817          2.197225         111     5000       21   \n",
       "2   0.985817  1.244155          2.197225         154     5000       19   \n",
       "3   1.160021  1.223775          2.302585         102     5500       24   \n",
       "4   1.160021  1.223775          2.079442         115     5500       18   \n",
       "\n",
       "   highwaympg     price  \n",
       "0          27  9.510075  \n",
       "1          27  9.711116  \n",
       "2          26  9.711116  \n",
       "3          30  9.543235  \n",
       "4          22  9.767095  "
      ]
     },
     "execution_count": 6,
     "metadata": {},
     "output_type": "execute_result"
    }
   ],
   "source": [
    "df.head()"
   ]
  },
  {
   "cell_type": "code",
   "execution_count": 7,
   "id": "2e3c91cb",
   "metadata": {},
   "outputs": [
    {
     "name": "stdout",
     "output_type": "stream",
     "text": [
      "<class 'pandas.core.frame.DataFrame'>\n",
      "RangeIndex: 205 entries, 0 to 204\n",
      "Data columns (total 27 columns):\n",
      " #   Column            Non-Null Count  Dtype  \n",
      "---  ------            --------------  -----  \n",
      " 0   Unnamed: 0        205 non-null    int64  \n",
      " 1   car_ID            205 non-null    int64  \n",
      " 2   symboling         205 non-null    int64  \n",
      " 3   CarName           205 non-null    object \n",
      " 4   fueltype          205 non-null    float64\n",
      " 5   aspiration        205 non-null    int64  \n",
      " 6   doornumber        205 non-null    int64  \n",
      " 7   carbody           205 non-null    int64  \n",
      " 8   drivewheel        205 non-null    int64  \n",
      " 9   enginelocation    205 non-null    int64  \n",
      " 10  wheelbase         205 non-null    float64\n",
      " 11  carlength         205 non-null    float64\n",
      " 12  carwidth          205 non-null    float64\n",
      " 13  carheight         205 non-null    float64\n",
      " 14  curbweight        205 non-null    int64  \n",
      " 15  enginetype        205 non-null    int64  \n",
      " 16  cylindernumber    205 non-null    int64  \n",
      " 17  enginesize        205 non-null    int64  \n",
      " 18  fuelsystem        205 non-null    int64  \n",
      " 19  boreratio         205 non-null    float64\n",
      " 20  stroke            205 non-null    float64\n",
      " 21  compressionratio  205 non-null    float64\n",
      " 22  horsepower        205 non-null    int64  \n",
      " 23  peakrpm           205 non-null    int64  \n",
      " 24  citympg           205 non-null    int64  \n",
      " 25  highwaympg        205 non-null    int64  \n",
      " 26  price             205 non-null    float64\n",
      "dtypes: float64(9), int64(17), object(1)\n",
      "memory usage: 43.4+ KB\n"
     ]
    }
   ],
   "source": [
    "df.info()"
   ]
  },
  {
   "cell_type": "code",
   "execution_count": 8,
   "id": "5e955d6d",
   "metadata": {},
   "outputs": [
    {
     "data": {
      "text/html": [
       "<div>\n",
       "<style scoped>\n",
       "    .dataframe tbody tr th:only-of-type {\n",
       "        vertical-align: middle;\n",
       "    }\n",
       "\n",
       "    .dataframe tbody tr th {\n",
       "        vertical-align: top;\n",
       "    }\n",
       "\n",
       "    .dataframe thead th {\n",
       "        text-align: right;\n",
       "    }\n",
       "</style>\n",
       "<table border=\"1\" class=\"dataframe\">\n",
       "  <thead>\n",
       "    <tr style=\"text-align: right;\">\n",
       "      <th></th>\n",
       "      <th>Unnamed: 0</th>\n",
       "      <th>car_ID</th>\n",
       "      <th>symboling</th>\n",
       "      <th>fueltype</th>\n",
       "      <th>aspiration</th>\n",
       "      <th>doornumber</th>\n",
       "      <th>carbody</th>\n",
       "      <th>drivewheel</th>\n",
       "      <th>enginelocation</th>\n",
       "      <th>wheelbase</th>\n",
       "      <th>carlength</th>\n",
       "      <th>carwidth</th>\n",
       "      <th>carheight</th>\n",
       "      <th>curbweight</th>\n",
       "      <th>enginetype</th>\n",
       "      <th>cylindernumber</th>\n",
       "      <th>enginesize</th>\n",
       "      <th>fuelsystem</th>\n",
       "      <th>boreratio</th>\n",
       "      <th>stroke</th>\n",
       "      <th>compressionratio</th>\n",
       "      <th>horsepower</th>\n",
       "      <th>peakrpm</th>\n",
       "      <th>citympg</th>\n",
       "      <th>highwaympg</th>\n",
       "      <th>price</th>\n",
       "    </tr>\n",
       "  </thead>\n",
       "  <tbody>\n",
       "    <tr>\n",
       "      <th>count</th>\n",
       "      <td>205.000000</td>\n",
       "      <td>205.000000</td>\n",
       "      <td>205.000000</td>\n",
       "      <td>205.000000</td>\n",
       "      <td>205.000000</td>\n",
       "      <td>205.000000</td>\n",
       "      <td>205.000000</td>\n",
       "      <td>205.000000</td>\n",
       "      <td>205.000000</td>\n",
       "      <td>205.000000</td>\n",
       "      <td>205.000000</td>\n",
       "      <td>205.000000</td>\n",
       "      <td>205.000000</td>\n",
       "      <td>205.000000</td>\n",
       "      <td>205.000000</td>\n",
       "      <td>205.000000</td>\n",
       "      <td>205.000000</td>\n",
       "      <td>205.000000</td>\n",
       "      <td>205.000000</td>\n",
       "      <td>205.000000</td>\n",
       "      <td>205.000000</td>\n",
       "      <td>205.000000</td>\n",
       "      <td>205.000000</td>\n",
       "      <td>205.000000</td>\n",
       "      <td>205.000000</td>\n",
       "      <td>205.000000</td>\n",
       "    </tr>\n",
       "    <tr>\n",
       "      <th>mean</th>\n",
       "      <td>102.000000</td>\n",
       "      <td>103.000000</td>\n",
       "      <td>0.834146</td>\n",
       "      <td>0.902439</td>\n",
       "      <td>1.180488</td>\n",
       "      <td>3.121951</td>\n",
       "      <td>2.643902</td>\n",
       "      <td>1.673171</td>\n",
       "      <td>1.014634</td>\n",
       "      <td>4.590874</td>\n",
       "      <td>5.156839</td>\n",
       "      <td>4.187739</td>\n",
       "      <td>3.982846</td>\n",
       "      <td>2555.565854</td>\n",
       "      <td>1.721951</td>\n",
       "      <td>3.912195</td>\n",
       "      <td>126.907317</td>\n",
       "      <td>1.102439</td>\n",
       "      <td>1.199586</td>\n",
       "      <td>1.175371</td>\n",
       "      <td>2.267389</td>\n",
       "      <td>104.117073</td>\n",
       "      <td>5125.121951</td>\n",
       "      <td>25.219512</td>\n",
       "      <td>30.751220</td>\n",
       "      <td>9.354679</td>\n",
       "    </tr>\n",
       "    <tr>\n",
       "      <th>std</th>\n",
       "      <td>59.322565</td>\n",
       "      <td>59.322565</td>\n",
       "      <td>1.245307</td>\n",
       "      <td>0.297446</td>\n",
       "      <td>0.385535</td>\n",
       "      <td>0.994966</td>\n",
       "      <td>0.782796</td>\n",
       "      <td>0.556171</td>\n",
       "      <td>0.120377</td>\n",
       "      <td>0.059364</td>\n",
       "      <td>0.070921</td>\n",
       "      <td>0.032122</td>\n",
       "      <td>0.045514</td>\n",
       "      <td>520.680204</td>\n",
       "      <td>0.449134</td>\n",
       "      <td>1.197259</td>\n",
       "      <td>41.642693</td>\n",
       "      <td>0.730460</td>\n",
       "      <td>0.081768</td>\n",
       "      <td>0.101759</td>\n",
       "      <td>0.282234</td>\n",
       "      <td>39.544167</td>\n",
       "      <td>476.985643</td>\n",
       "      <td>6.542142</td>\n",
       "      <td>6.886443</td>\n",
       "      <td>0.503805</td>\n",
       "    </tr>\n",
       "    <tr>\n",
       "      <th>min</th>\n",
       "      <td>0.000000</td>\n",
       "      <td>1.000000</td>\n",
       "      <td>-2.000000</td>\n",
       "      <td>0.000000</td>\n",
       "      <td>1.000000</td>\n",
       "      <td>2.000000</td>\n",
       "      <td>1.000000</td>\n",
       "      <td>1.000000</td>\n",
       "      <td>1.000000</td>\n",
       "      <td>4.461300</td>\n",
       "      <td>4.949469</td>\n",
       "      <td>4.099332</td>\n",
       "      <td>3.867026</td>\n",
       "      <td>1488.000000</td>\n",
       "      <td>1.000000</td>\n",
       "      <td>1.000000</td>\n",
       "      <td>61.000000</td>\n",
       "      <td>0.000000</td>\n",
       "      <td>0.932164</td>\n",
       "      <td>0.727549</td>\n",
       "      <td>1.945910</td>\n",
       "      <td>48.000000</td>\n",
       "      <td>4150.000000</td>\n",
       "      <td>13.000000</td>\n",
       "      <td>16.000000</td>\n",
       "      <td>8.540519</td>\n",
       "    </tr>\n",
       "    <tr>\n",
       "      <th>25%</th>\n",
       "      <td>51.000000</td>\n",
       "      <td>52.000000</td>\n",
       "      <td>0.000000</td>\n",
       "      <td>1.000000</td>\n",
       "      <td>1.000000</td>\n",
       "      <td>2.000000</td>\n",
       "      <td>2.000000</td>\n",
       "      <td>1.000000</td>\n",
       "      <td>1.000000</td>\n",
       "      <td>4.548600</td>\n",
       "      <td>5.113793</td>\n",
       "      <td>4.160444</td>\n",
       "      <td>3.951244</td>\n",
       "      <td>2145.000000</td>\n",
       "      <td>1.000000</td>\n",
       "      <td>4.000000</td>\n",
       "      <td>97.000000</td>\n",
       "      <td>1.000000</td>\n",
       "      <td>1.147402</td>\n",
       "      <td>1.134623</td>\n",
       "      <td>2.151762</td>\n",
       "      <td>70.000000</td>\n",
       "      <td>4800.000000</td>\n",
       "      <td>19.000000</td>\n",
       "      <td>25.000000</td>\n",
       "      <td>8.960339</td>\n",
       "    </tr>\n",
       "    <tr>\n",
       "      <th>50%</th>\n",
       "      <td>102.000000</td>\n",
       "      <td>103.000000</td>\n",
       "      <td>1.000000</td>\n",
       "      <td>1.000000</td>\n",
       "      <td>1.000000</td>\n",
       "      <td>4.000000</td>\n",
       "      <td>3.000000</td>\n",
       "      <td>2.000000</td>\n",
       "      <td>1.000000</td>\n",
       "      <td>4.574711</td>\n",
       "      <td>5.154447</td>\n",
       "      <td>4.182050</td>\n",
       "      <td>3.990834</td>\n",
       "      <td>2414.000000</td>\n",
       "      <td>2.000000</td>\n",
       "      <td>4.000000</td>\n",
       "      <td>120.000000</td>\n",
       "      <td>1.000000</td>\n",
       "      <td>1.196948</td>\n",
       "      <td>1.190888</td>\n",
       "      <td>2.197225</td>\n",
       "      <td>95.000000</td>\n",
       "      <td>5200.000000</td>\n",
       "      <td>24.000000</td>\n",
       "      <td>30.000000</td>\n",
       "      <td>9.239414</td>\n",
       "    </tr>\n",
       "    <tr>\n",
       "      <th>75%</th>\n",
       "      <td>153.000000</td>\n",
       "      <td>154.000000</td>\n",
       "      <td>2.000000</td>\n",
       "      <td>1.000000</td>\n",
       "      <td>1.000000</td>\n",
       "      <td>4.000000</td>\n",
       "      <td>3.000000</td>\n",
       "      <td>2.000000</td>\n",
       "      <td>1.000000</td>\n",
       "      <td>4.628887</td>\n",
       "      <td>5.210032</td>\n",
       "      <td>4.203199</td>\n",
       "      <td>4.016383</td>\n",
       "      <td>2935.000000</td>\n",
       "      <td>2.000000</td>\n",
       "      <td>4.000000</td>\n",
       "      <td>141.000000</td>\n",
       "      <td>2.000000</td>\n",
       "      <td>1.275363</td>\n",
       "      <td>1.226712</td>\n",
       "      <td>2.240710</td>\n",
       "      <td>116.000000</td>\n",
       "      <td>5500.000000</td>\n",
       "      <td>30.000000</td>\n",
       "      <td>34.000000</td>\n",
       "      <td>9.711297</td>\n",
       "    </tr>\n",
       "    <tr>\n",
       "      <th>max</th>\n",
       "      <td>204.000000</td>\n",
       "      <td>205.000000</td>\n",
       "      <td>3.000000</td>\n",
       "      <td>1.000000</td>\n",
       "      <td>2.000000</td>\n",
       "      <td>4.000000</td>\n",
       "      <td>4.000000</td>\n",
       "      <td>3.000000</td>\n",
       "      <td>2.000000</td>\n",
       "      <td>4.794964</td>\n",
       "      <td>5.338019</td>\n",
       "      <td>4.280824</td>\n",
       "      <td>4.091006</td>\n",
       "      <td>4066.000000</td>\n",
       "      <td>2.000000</td>\n",
       "      <td>6.000000</td>\n",
       "      <td>326.000000</td>\n",
       "      <td>2.000000</td>\n",
       "      <td>1.371181</td>\n",
       "      <td>1.427916</td>\n",
       "      <td>3.135494</td>\n",
       "      <td>288.000000</td>\n",
       "      <td>6600.000000</td>\n",
       "      <td>49.000000</td>\n",
       "      <td>54.000000</td>\n",
       "      <td>10.723267</td>\n",
       "    </tr>\n",
       "  </tbody>\n",
       "</table>\n",
       "</div>"
      ],
      "text/plain": [
       "       Unnamed: 0      car_ID   symboling    fueltype  aspiration  doornumber  \\\n",
       "count  205.000000  205.000000  205.000000  205.000000  205.000000  205.000000   \n",
       "mean   102.000000  103.000000    0.834146    0.902439    1.180488    3.121951   \n",
       "std     59.322565   59.322565    1.245307    0.297446    0.385535    0.994966   \n",
       "min      0.000000    1.000000   -2.000000    0.000000    1.000000    2.000000   \n",
       "25%     51.000000   52.000000    0.000000    1.000000    1.000000    2.000000   \n",
       "50%    102.000000  103.000000    1.000000    1.000000    1.000000    4.000000   \n",
       "75%    153.000000  154.000000    2.000000    1.000000    1.000000    4.000000   \n",
       "max    204.000000  205.000000    3.000000    1.000000    2.000000    4.000000   \n",
       "\n",
       "          carbody  drivewheel  enginelocation   wheelbase   carlength  \\\n",
       "count  205.000000  205.000000      205.000000  205.000000  205.000000   \n",
       "mean     2.643902    1.673171        1.014634    4.590874    5.156839   \n",
       "std      0.782796    0.556171        0.120377    0.059364    0.070921   \n",
       "min      1.000000    1.000000        1.000000    4.461300    4.949469   \n",
       "25%      2.000000    1.000000        1.000000    4.548600    5.113793   \n",
       "50%      3.000000    2.000000        1.000000    4.574711    5.154447   \n",
       "75%      3.000000    2.000000        1.000000    4.628887    5.210032   \n",
       "max      4.000000    3.000000        2.000000    4.794964    5.338019   \n",
       "\n",
       "         carwidth   carheight   curbweight  enginetype  cylindernumber  \\\n",
       "count  205.000000  205.000000   205.000000  205.000000      205.000000   \n",
       "mean     4.187739    3.982846  2555.565854    1.721951        3.912195   \n",
       "std      0.032122    0.045514   520.680204    0.449134        1.197259   \n",
       "min      4.099332    3.867026  1488.000000    1.000000        1.000000   \n",
       "25%      4.160444    3.951244  2145.000000    1.000000        4.000000   \n",
       "50%      4.182050    3.990834  2414.000000    2.000000        4.000000   \n",
       "75%      4.203199    4.016383  2935.000000    2.000000        4.000000   \n",
       "max      4.280824    4.091006  4066.000000    2.000000        6.000000   \n",
       "\n",
       "       enginesize  fuelsystem   boreratio      stroke  compressionratio  \\\n",
       "count  205.000000  205.000000  205.000000  205.000000        205.000000   \n",
       "mean   126.907317    1.102439    1.199586    1.175371          2.267389   \n",
       "std     41.642693    0.730460    0.081768    0.101759          0.282234   \n",
       "min     61.000000    0.000000    0.932164    0.727549          1.945910   \n",
       "25%     97.000000    1.000000    1.147402    1.134623          2.151762   \n",
       "50%    120.000000    1.000000    1.196948    1.190888          2.197225   \n",
       "75%    141.000000    2.000000    1.275363    1.226712          2.240710   \n",
       "max    326.000000    2.000000    1.371181    1.427916          3.135494   \n",
       "\n",
       "       horsepower      peakrpm     citympg  highwaympg       price  \n",
       "count  205.000000   205.000000  205.000000  205.000000  205.000000  \n",
       "mean   104.117073  5125.121951   25.219512   30.751220    9.354679  \n",
       "std     39.544167   476.985643    6.542142    6.886443    0.503805  \n",
       "min     48.000000  4150.000000   13.000000   16.000000    8.540519  \n",
       "25%     70.000000  4800.000000   19.000000   25.000000    8.960339  \n",
       "50%     95.000000  5200.000000   24.000000   30.000000    9.239414  \n",
       "75%    116.000000  5500.000000   30.000000   34.000000    9.711297  \n",
       "max    288.000000  6600.000000   49.000000   54.000000   10.723267  "
      ]
     },
     "execution_count": 8,
     "metadata": {},
     "output_type": "execute_result"
    }
   ],
   "source": [
    "df.describe()"
   ]
  },
  {
   "cell_type": "code",
   "execution_count": 9,
   "id": "fa5a2655",
   "metadata": {},
   "outputs": [],
   "source": [
    "x = df.drop(['car_ID','price','Unnamed: 0','CarName'],axis = 1)"
   ]
  },
  {
   "cell_type": "code",
   "execution_count": 9,
   "id": "5d1147f7",
   "metadata": {},
   "outputs": [],
   "source": [
    "y = df['price']"
   ]
  },
  {
   "cell_type": "code",
   "execution_count": 10,
   "id": "a25cffc9",
   "metadata": {},
   "outputs": [
    {
     "data": {
      "text/plain": [
       "SelectFromModel(estimator=Lasso(alpha=0.005, random_state=0))"
      ]
     },
     "execution_count": 10,
     "metadata": {},
     "output_type": "execute_result"
    }
   ],
   "source": [
    "### Apply Feature Selection\n",
    "# first, I specify the Lasso Regression model, and I\n",
    "# select a suitable alpha (equivalent of penalty).\n",
    "# The bigger the alpha the less features that will be selected.\n",
    "\n",
    "# Then I use the selectFromModel object from sklearn, which\n",
    "# will select the features which coefficients are non-zero\n",
    "\n",
    "feature_sel_model = SelectFromModel(Lasso(alpha=0.005, random_state=0)) # remember to set the seed, the random state in this function\n",
    "feature_sel_model.fit(x, y)\n",
    "# feature_sel_model.fit(x_train, y_train)"
   ]
  },
  {
   "cell_type": "code",
   "execution_count": 11,
   "id": "1c8a243a",
   "metadata": {},
   "outputs": [
    {
     "data": {
      "text/plain": [
       "array([ True, False, False,  True,  True,  True,  True, False, False,\n",
       "       False, False,  True,  True,  True,  True,  True, False, False,\n",
       "        True,  True,  True,  True,  True])"
      ]
     },
     "execution_count": 11,
     "metadata": {},
     "output_type": "execute_result"
    }
   ],
   "source": [
    "feature_sel_model.get_support()"
   ]
  },
  {
   "cell_type": "code",
   "execution_count": 12,
   "id": "306090a9",
   "metadata": {},
   "outputs": [
    {
     "name": "stdout",
     "output_type": "stream",
     "text": [
      "total features: 23\n",
      "selected features: 15\n"
     ]
    }
   ],
   "source": [
    "# let's print the number of total and selected features\n",
    "\n",
    "# this is how we can make a list of the selected features\n",
    "selected_feat = x.columns[(feature_sel_model.get_support())]\n",
    "\n",
    "# let's print some stats\n",
    "print('total features: {}'.format((x.shape[1])))\n",
    "print('selected features: {}'.format(len(selected_feat)))"
   ]
  },
  {
   "cell_type": "code",
   "execution_count": 13,
   "id": "90c359a3",
   "metadata": {},
   "outputs": [
    {
     "name": "stdout",
     "output_type": "stream",
     "text": [
      "symboling\n",
      "doornumber\n",
      "carbody\n",
      "drivewheel\n",
      "enginelocation\n",
      "curbweight\n",
      "enginetype\n",
      "cylindernumber\n",
      "enginesize\n",
      "fuelsystem\n",
      "compressionratio\n",
      "horsepower\n",
      "peakrpm\n",
      "citympg\n",
      "highwaympg\n"
     ]
    }
   ],
   "source": [
    "for value in selected_feat:\n",
    "    print(value)"
   ]
  },
  {
   "cell_type": "code",
   "execution_count": 14,
   "id": "429ba429",
   "metadata": {},
   "outputs": [],
   "source": [
    "# Use this cell while applying Linear Regression and DecisionTree \n",
    "# Can be used while aplying Random Forest\n",
    "x = x[selected_feat]   "
   ]
  },
  {
   "cell_type": "code",
   "execution_count": 15,
   "id": "399c91b2",
   "metadata": {},
   "outputs": [],
   "source": [
    "x = x.values"
   ]
  },
  {
   "cell_type": "code",
   "execution_count": 16,
   "id": "e1c71837",
   "metadata": {},
   "outputs": [],
   "source": [
    "y = y.values"
   ]
  },
  {
   "cell_type": "code",
   "execution_count": 17,
   "id": "0d5b38ca",
   "metadata": {},
   "outputs": [],
   "source": [
    "# Split our data into Training and Testing\n",
    "from sklearn.model_selection import train_test_split"
   ]
  },
  {
   "cell_type": "code",
   "execution_count": 18,
   "id": "25af1eed",
   "metadata": {},
   "outputs": [],
   "source": [
    "xtrain,xtest,ytrain,ytest = train_test_split(x,y,test_size = 0.3, random_state =0)"
   ]
  },
  {
   "cell_type": "markdown",
   "id": "f74ff5e5",
   "metadata": {},
   "source": [
    "# Linear, Decision_Tree, Random_Forest Algorithm"
   ]
  },
  {
   "cell_type": "markdown",
   "id": "c42b3386",
   "metadata": {},
   "source": [
    "Here I have used 3 types of Algorithms, use only one at a time and comment out other algorithms"
   ]
  },
  {
   "cell_type": "code",
   "execution_count": 19,
   "id": "f84e05aa",
   "metadata": {},
   "outputs": [],
   "source": [
    "# LINEAR REGRESSION\n",
    "from sklearn.linear_model import LinearRegression\n",
    "\n",
    "\n",
    "# DECISION TREE\n",
    "from sklearn.tree import DecisionTreeRegressor\n",
    "\n",
    "# RANDOM FOREST\n",
    "from sklearn.ensemble import RandomForestRegressor"
   ]
  },
  {
   "cell_type": "code",
   "execution_count": 20,
   "id": "5c0d1bcd",
   "metadata": {},
   "outputs": [],
   "source": [
    "# LINEAR REGRESSION\n",
    "regressor = LinearRegression()\n",
    "\n",
    "# DECISION TREE\n",
    "dt = DecisionTreeRegressor(max_depth = 15)\n",
    "\n",
    "# RANDOM FOREST\n",
    "rf = RandomForestRegressor(n_estimators = 24, random_state = 0)"
   ]
  },
  {
   "cell_type": "code",
   "execution_count": 21,
   "id": "46806791",
   "metadata": {},
   "outputs": [
    {
     "data": {
      "text/plain": [
       "RandomForestRegressor(n_estimators=24, random_state=0)"
      ]
     },
     "execution_count": 21,
     "metadata": {},
     "output_type": "execute_result"
    }
   ],
   "source": [
    "# LINEAR REGRESSION\n",
    "# regressor.fit(xtrain,ytrain)\n",
    "\n",
    "\n",
    "# DECISION TREE\n",
    "# dt.fit(xtrain,ytrain)\n",
    "\n",
    "\n",
    "# RANDOM FOREST\n",
    "rf.fit(xtrain,ytrain)"
   ]
  },
  {
   "cell_type": "code",
   "execution_count": 25,
   "id": "2457fef7",
   "metadata": {},
   "outputs": [],
   "source": [
    "# LINEAR REGRESSION\n",
    "# y_pred1 = regressor.predict(xtest) # Accuracy 81.9\n",
    "\n",
    "\n",
    "# DECISION TREE\n",
    "# y_pred2 = dt.predict(xtest)  # Accuracy 83.48\n",
    "\n",
    "# RANDOM FOREST\n",
    "y_pred3 = rf.predict(xtest)   # Accuracy 90.77"
   ]
  },
  {
   "cell_type": "code",
   "execution_count": 26,
   "id": "86762b0b",
   "metadata": {},
   "outputs": [
    {
     "data": {
      "text/plain": [
       "array([ 8.71953776,  9.75901181,  9.47482118,  8.66112833,  9.30375554,\n",
       "        9.46670499,  8.67055288,  8.88662479,  9.75018003,  8.81127623,\n",
       "        9.84490261, 10.45216161,  9.43540191,  9.50225322,  8.78170785,\n",
       "        9.32661291,  9.39324834,  9.67835045,  9.08688808,  8.81603447,\n",
       "        9.11259763,  9.6730025 ,  9.2554313 ,  9.47175648,  9.74055612,\n",
       "        8.93266584,  8.94175623,  9.55395702,  8.97417918,  8.82043783,\n",
       "        9.0370417 ,  9.38367751,  9.60514212,  9.13372154,  8.85310621,\n",
       "       10.39186995,  9.17504408,  9.68851304,  8.69115034, 10.57501033,\n",
       "        8.74606977,  9.6007774 , 10.45431834,  9.45846536,  9.25726881,\n",
       "        8.99562605,  8.80745349,  9.57071517,  9.46278447,  9.05791449,\n",
       "        9.72241428,  8.89949157,  9.02344636,  9.08816945,  9.70954289,\n",
       "        9.75176032,  9.1174186 ,  9.7550543 ,  9.16938991,  8.76848132,\n",
       "        8.67100115,  9.48495631])"
      ]
     },
     "execution_count": 26,
     "metadata": {},
     "output_type": "execute_result"
    }
   ],
   "source": [
    "y_pred3"
   ]
  },
  {
   "cell_type": "code",
   "execution_count": 27,
   "id": "46908d36",
   "metadata": {},
   "outputs": [],
   "source": [
    "from sklearn.metrics import r2_score"
   ]
  },
  {
   "cell_type": "code",
   "execution_count": 28,
   "id": "e6087337",
   "metadata": {},
   "outputs": [],
   "source": [
    "score = r2_score(ytest,y_pred3)*100"
   ]
  },
  {
   "cell_type": "code",
   "execution_count": 29,
   "id": "9e38bdb8",
   "metadata": {},
   "outputs": [
    {
     "data": {
      "text/plain": [
       "90.77114882152961"
      ]
     },
     "execution_count": 29,
     "metadata": {},
     "output_type": "execute_result"
    }
   ],
   "source": [
    "score"
   ]
  },
  {
   "cell_type": "markdown",
   "id": "b39cc5a6",
   "metadata": {},
   "source": [
    "# HyperParameter Tuning\n",
    "This method is used to find the best accuracy"
   ]
  },
  {
   "cell_type": "code",
   "execution_count": 30,
   "id": "e99d29fc",
   "metadata": {},
   "outputs": [],
   "source": [
    "# Random Forest \n",
    "\n",
    "l =[]\n",
    "for i in range(1,30): \n",
    "    rf = RandomForestRegressor(n_estimators = i, random_state =0)\n",
    "    rf.fit(xtrain,ytrain)\n",
    "    y_pred = rf.predict(xtest)\n",
    "    score = r2_score(ytest,y_pred)\n",
    "    score = score * 100\n",
    "    l.append([i,score])\n",
    "    \n",
    "    \n",
    "\n"
   ]
  },
  {
   "cell_type": "code",
   "execution_count": 31,
   "id": "94f14955",
   "metadata": {},
   "outputs": [
    {
     "name": "stdout",
     "output_type": "stream",
     "text": [
      "[[1, 81.25339085572236], [2, 86.5101940234149], [3, 86.16032134954614], [4, 87.68498839712548], [5, 88.50942833395501], [6, 89.32683820511518], [7, 89.56522698671867], [8, 89.519673681585], [9, 89.34897913036679], [10, 89.75946390828679], [11, 90.00345158504865], [12, 90.11282446139252], [13, 90.02639927748474], [14, 89.7189347793626], [15, 89.96716651742528], [16, 90.29118912585486], [17, 90.03879023083977], [18, 90.27553641655905], [19, 90.07990067922242], [20, 90.3663411450919], [21, 90.5655049619271], [22, 90.65347113901574], [23, 90.76277802776085], [24, 90.77114882152961], [25, 90.66832294359115], [26, 90.67201576168644], [27, 90.58650863558753], [28, 90.55819840494219], [29, 90.56365882708081]]\n"
     ]
    }
   ],
   "source": [
    "print(l)"
   ]
  },
  {
   "cell_type": "code",
   "execution_count": 32,
   "id": "143623f2",
   "metadata": {},
   "outputs": [],
   "source": [
    "# Decision Tree\n",
    "l =[]\n",
    "for i in range(1,30):    \n",
    "    dt = DecisionTreeRegressor(max_depth = i)    \n",
    "    dt.fit(xtrain,ytrain)\n",
    "    y_pred = dt.predict(xtest)\n",
    "    score = r2_score(ytest,y_pred)\n",
    "    score = score * 100\n",
    "    l.append([i,score])"
   ]
  },
  {
   "cell_type": "code",
   "execution_count": 33,
   "id": "70ac9c06",
   "metadata": {},
   "outputs": [
    {
     "name": "stdout",
     "output_type": "stream",
     "text": [
      "[[1, 59.843365581197276], [2, 83.62705708157662], [3, 81.96383665325033], [4, 82.86936737443474], [5, 83.17527964407951], [6, 86.5655601960435], [7, 80.1523695183219], [8, 82.63074255686546], [9, 84.34056268692565], [10, 80.28603158563973], [11, 83.21666031150738], [12, 80.06034066548504], [13, 81.26705939628253], [14, 82.36327856209856], [15, 81.41271181154912], [16, 83.12530654482251], [17, 78.82942272234882], [18, 81.9421611798214], [19, 82.34698203966073], [20, 80.18180254102003], [21, 82.41666313734147], [22, 81.98241285946628], [23, 82.35547008042522], [24, 82.24349139049384], [25, 83.96448470529603], [26, 81.81022625773429], [27, 81.87861058948931], [28, 83.21338422004567], [29, 81.21777708431362]]\n"
     ]
    }
   ],
   "source": [
    "print(l)"
   ]
  },
  {
   "cell_type": "markdown",
   "id": "0711c82d",
   "metadata": {},
   "source": [
    "# Save Pickle File"
   ]
  },
  {
   "cell_type": "code",
   "execution_count": 34,
   "id": "2f463c8b",
   "metadata": {},
   "outputs": [],
   "source": [
    "import pickle"
   ]
  },
  {
   "cell_type": "code",
   "execution_count": 35,
   "id": "01c3c21c",
   "metadata": {},
   "outputs": [],
   "source": [
    "filename = 'car_price_prediction_model.pkl'  # File Name\n",
    "pickle.dump(rf,open(filename,'wb'))   # pickle.dumb(model,open(filename,'wb'))     wb = Writebite "
   ]
  },
  {
   "cell_type": "markdown",
   "id": "796c4936",
   "metadata": {},
   "source": [
    "# Load Pickle File"
   ]
  },
  {
   "cell_type": "code",
   "execution_count": 36,
   "id": "efb6df44",
   "metadata": {},
   "outputs": [],
   "source": [
    "load = pickle.load(open('car_price_prediction_model.pkl','rb'))   # pickle.load(open(filename,'rb'))    'rb' = readbite"
   ]
  },
  {
   "cell_type": "code",
   "execution_count": 37,
   "id": "946b4f3f",
   "metadata": {},
   "outputs": [
    {
     "data": {
      "text/plain": [
       "RandomForestRegressor(n_estimators=29, random_state=0)"
      ]
     },
     "execution_count": 37,
     "metadata": {},
     "output_type": "execute_result"
    }
   ],
   "source": [
    "load"
   ]
  },
  {
   "cell_type": "code",
   "execution_count": null,
   "id": "8ce4d825",
   "metadata": {},
   "outputs": [],
   "source": []
  }
 ],
 "metadata": {
  "kernelspec": {
   "display_name": "Python 3 (ipykernel)",
   "language": "python",
   "name": "python3"
  },
  "language_info": {
   "codemirror_mode": {
    "name": "ipython",
    "version": 3
   },
   "file_extension": ".py",
   "mimetype": "text/x-python",
   "name": "python",
   "nbconvert_exporter": "python",
   "pygments_lexer": "ipython3",
   "version": "3.9.7"
  }
 },
 "nbformat": 4,
 "nbformat_minor": 5
}
