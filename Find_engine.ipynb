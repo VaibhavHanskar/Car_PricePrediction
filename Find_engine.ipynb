{
 "cells": [
  {
   "cell_type": "code",
   "execution_count": 36,
   "id": "43d4dc53",
   "metadata": {},
   "outputs": [],
   "source": [
    "import pandas as pd\n",
    "import numpy as np"
   ]
  },
  {
   "cell_type": "code",
   "execution_count": 37,
   "id": "4ccca69a",
   "metadata": {},
   "outputs": [
    {
     "data": {
      "text/html": [
       "<div>\n",
       "<style scoped>\n",
       "    .dataframe tbody tr th:only-of-type {\n",
       "        vertical-align: middle;\n",
       "    }\n",
       "\n",
       "    .dataframe tbody tr th {\n",
       "        vertical-align: top;\n",
       "    }\n",
       "\n",
       "    .dataframe thead th {\n",
       "        text-align: right;\n",
       "    }\n",
       "</style>\n",
       "<table border=\"1\" class=\"dataframe\">\n",
       "  <thead>\n",
       "    <tr style=\"text-align: right;\">\n",
       "      <th></th>\n",
       "      <th>Unnamed: 0</th>\n",
       "      <th>car_ID</th>\n",
       "      <th>symboling</th>\n",
       "      <th>CarName</th>\n",
       "      <th>fueltype</th>\n",
       "      <th>aspiration</th>\n",
       "      <th>doornumber</th>\n",
       "      <th>carbody</th>\n",
       "      <th>drivewheel</th>\n",
       "      <th>enginelocation</th>\n",
       "      <th>wheelbase</th>\n",
       "      <th>carlength</th>\n",
       "      <th>carwidth</th>\n",
       "      <th>carheight</th>\n",
       "      <th>curbweight</th>\n",
       "      <th>enginetype</th>\n",
       "      <th>cylindernumber</th>\n",
       "      <th>enginesize</th>\n",
       "      <th>fuelsystem</th>\n",
       "      <th>boreratio</th>\n",
       "      <th>stroke</th>\n",
       "      <th>compressionratio</th>\n",
       "      <th>horsepower</th>\n",
       "      <th>peakrpm</th>\n",
       "      <th>citympg</th>\n",
       "      <th>highwaympg</th>\n",
       "      <th>price</th>\n",
       "    </tr>\n",
       "  </thead>\n",
       "  <tbody>\n",
       "    <tr>\n",
       "      <th>0</th>\n",
       "      <td>0</td>\n",
       "      <td>1</td>\n",
       "      <td>3</td>\n",
       "      <td>Rare</td>\n",
       "      <td>gas</td>\n",
       "      <td>std</td>\n",
       "      <td>two</td>\n",
       "      <td>Rare</td>\n",
       "      <td>rwd</td>\n",
       "      <td>front</td>\n",
       "      <td>4.484132</td>\n",
       "      <td>5.128715</td>\n",
       "      <td>4.160444</td>\n",
       "      <td>3.887730</td>\n",
       "      <td>2548</td>\n",
       "      <td>Rare</td>\n",
       "      <td>four</td>\n",
       "      <td>130</td>\n",
       "      <td>mpfi</td>\n",
       "      <td>1.244155</td>\n",
       "      <td>0.985817</td>\n",
       "      <td>2.197225</td>\n",
       "      <td>111</td>\n",
       "      <td>5000</td>\n",
       "      <td>21</td>\n",
       "      <td>27</td>\n",
       "      <td>9.510075</td>\n",
       "    </tr>\n",
       "    <tr>\n",
       "      <th>1</th>\n",
       "      <td>1</td>\n",
       "      <td>2</td>\n",
       "      <td>3</td>\n",
       "      <td>Rare</td>\n",
       "      <td>gas</td>\n",
       "      <td>std</td>\n",
       "      <td>two</td>\n",
       "      <td>Rare</td>\n",
       "      <td>rwd</td>\n",
       "      <td>front</td>\n",
       "      <td>4.484132</td>\n",
       "      <td>5.128715</td>\n",
       "      <td>4.160444</td>\n",
       "      <td>3.887730</td>\n",
       "      <td>2548</td>\n",
       "      <td>Rare</td>\n",
       "      <td>four</td>\n",
       "      <td>130</td>\n",
       "      <td>mpfi</td>\n",
       "      <td>1.244155</td>\n",
       "      <td>0.985817</td>\n",
       "      <td>2.197225</td>\n",
       "      <td>111</td>\n",
       "      <td>5000</td>\n",
       "      <td>21</td>\n",
       "      <td>27</td>\n",
       "      <td>9.711116</td>\n",
       "    </tr>\n",
       "    <tr>\n",
       "      <th>2</th>\n",
       "      <td>2</td>\n",
       "      <td>3</td>\n",
       "      <td>1</td>\n",
       "      <td>Rare</td>\n",
       "      <td>gas</td>\n",
       "      <td>std</td>\n",
       "      <td>two</td>\n",
       "      <td>hatchback</td>\n",
       "      <td>rwd</td>\n",
       "      <td>front</td>\n",
       "      <td>4.548600</td>\n",
       "      <td>5.142832</td>\n",
       "      <td>4.182050</td>\n",
       "      <td>3.958907</td>\n",
       "      <td>2823</td>\n",
       "      <td>Rare</td>\n",
       "      <td>six</td>\n",
       "      <td>152</td>\n",
       "      <td>mpfi</td>\n",
       "      <td>0.985817</td>\n",
       "      <td>1.244155</td>\n",
       "      <td>2.197225</td>\n",
       "      <td>154</td>\n",
       "      <td>5000</td>\n",
       "      <td>19</td>\n",
       "      <td>26</td>\n",
       "      <td>9.711116</td>\n",
       "    </tr>\n",
       "    <tr>\n",
       "      <th>3</th>\n",
       "      <td>3</td>\n",
       "      <td>4</td>\n",
       "      <td>2</td>\n",
       "      <td>Rare</td>\n",
       "      <td>gas</td>\n",
       "      <td>std</td>\n",
       "      <td>four</td>\n",
       "      <td>sedan</td>\n",
       "      <td>fwd</td>\n",
       "      <td>front</td>\n",
       "      <td>4.603168</td>\n",
       "      <td>5.173887</td>\n",
       "      <td>4.192680</td>\n",
       "      <td>3.994524</td>\n",
       "      <td>2337</td>\n",
       "      <td>ohc</td>\n",
       "      <td>four</td>\n",
       "      <td>109</td>\n",
       "      <td>mpfi</td>\n",
       "      <td>1.160021</td>\n",
       "      <td>1.223775</td>\n",
       "      <td>2.302585</td>\n",
       "      <td>102</td>\n",
       "      <td>5500</td>\n",
       "      <td>24</td>\n",
       "      <td>30</td>\n",
       "      <td>9.543235</td>\n",
       "    </tr>\n",
       "    <tr>\n",
       "      <th>4</th>\n",
       "      <td>4</td>\n",
       "      <td>5</td>\n",
       "      <td>2</td>\n",
       "      <td>Rare</td>\n",
       "      <td>gas</td>\n",
       "      <td>std</td>\n",
       "      <td>four</td>\n",
       "      <td>sedan</td>\n",
       "      <td>Rare</td>\n",
       "      <td>front</td>\n",
       "      <td>4.599152</td>\n",
       "      <td>5.173887</td>\n",
       "      <td>4.195697</td>\n",
       "      <td>3.994524</td>\n",
       "      <td>2824</td>\n",
       "      <td>ohc</td>\n",
       "      <td>Rare</td>\n",
       "      <td>136</td>\n",
       "      <td>mpfi</td>\n",
       "      <td>1.160021</td>\n",
       "      <td>1.223775</td>\n",
       "      <td>2.079442</td>\n",
       "      <td>115</td>\n",
       "      <td>5500</td>\n",
       "      <td>18</td>\n",
       "      <td>22</td>\n",
       "      <td>9.767095</td>\n",
       "    </tr>\n",
       "    <tr>\n",
       "      <th>5</th>\n",
       "      <td>5</td>\n",
       "      <td>6</td>\n",
       "      <td>2</td>\n",
       "      <td>Rare</td>\n",
       "      <td>gas</td>\n",
       "      <td>std</td>\n",
       "      <td>two</td>\n",
       "      <td>sedan</td>\n",
       "      <td>fwd</td>\n",
       "      <td>front</td>\n",
       "      <td>4.603168</td>\n",
       "      <td>5.177843</td>\n",
       "      <td>4.194190</td>\n",
       "      <td>3.972177</td>\n",
       "      <td>2507</td>\n",
       "      <td>ohc</td>\n",
       "      <td>Rare</td>\n",
       "      <td>136</td>\n",
       "      <td>mpfi</td>\n",
       "      <td>1.160021</td>\n",
       "      <td>1.223775</td>\n",
       "      <td>2.140066</td>\n",
       "      <td>110</td>\n",
       "      <td>5500</td>\n",
       "      <td>19</td>\n",
       "      <td>25</td>\n",
       "      <td>9.632335</td>\n",
       "    </tr>\n",
       "    <tr>\n",
       "      <th>6</th>\n",
       "      <td>6</td>\n",
       "      <td>7</td>\n",
       "      <td>1</td>\n",
       "      <td>Rare</td>\n",
       "      <td>gas</td>\n",
       "      <td>std</td>\n",
       "      <td>four</td>\n",
       "      <td>sedan</td>\n",
       "      <td>fwd</td>\n",
       "      <td>front</td>\n",
       "      <td>4.661551</td>\n",
       "      <td>5.261135</td>\n",
       "      <td>4.268298</td>\n",
       "      <td>4.019980</td>\n",
       "      <td>2844</td>\n",
       "      <td>ohc</td>\n",
       "      <td>Rare</td>\n",
       "      <td>136</td>\n",
       "      <td>mpfi</td>\n",
       "      <td>1.160021</td>\n",
       "      <td>1.223775</td>\n",
       "      <td>2.140066</td>\n",
       "      <td>110</td>\n",
       "      <td>5500</td>\n",
       "      <td>19</td>\n",
       "      <td>25</td>\n",
       "      <td>9.781885</td>\n",
       "    </tr>\n",
       "    <tr>\n",
       "      <th>7</th>\n",
       "      <td>7</td>\n",
       "      <td>8</td>\n",
       "      <td>1</td>\n",
       "      <td>Rare</td>\n",
       "      <td>gas</td>\n",
       "      <td>std</td>\n",
       "      <td>four</td>\n",
       "      <td>wagon</td>\n",
       "      <td>fwd</td>\n",
       "      <td>front</td>\n",
       "      <td>4.661551</td>\n",
       "      <td>5.261135</td>\n",
       "      <td>4.268298</td>\n",
       "      <td>4.019980</td>\n",
       "      <td>2954</td>\n",
       "      <td>ohc</td>\n",
       "      <td>Rare</td>\n",
       "      <td>136</td>\n",
       "      <td>mpfi</td>\n",
       "      <td>1.160021</td>\n",
       "      <td>1.223775</td>\n",
       "      <td>2.140066</td>\n",
       "      <td>110</td>\n",
       "      <td>5500</td>\n",
       "      <td>19</td>\n",
       "      <td>25</td>\n",
       "      <td>9.847975</td>\n",
       "    </tr>\n",
       "    <tr>\n",
       "      <th>8</th>\n",
       "      <td>8</td>\n",
       "      <td>9</td>\n",
       "      <td>1</td>\n",
       "      <td>Rare</td>\n",
       "      <td>gas</td>\n",
       "      <td>turbo</td>\n",
       "      <td>four</td>\n",
       "      <td>sedan</td>\n",
       "      <td>fwd</td>\n",
       "      <td>front</td>\n",
       "      <td>4.661551</td>\n",
       "      <td>5.261135</td>\n",
       "      <td>4.268298</td>\n",
       "      <td>4.023564</td>\n",
       "      <td>3086</td>\n",
       "      <td>ohc</td>\n",
       "      <td>Rare</td>\n",
       "      <td>131</td>\n",
       "      <td>mpfi</td>\n",
       "      <td>1.141033</td>\n",
       "      <td>1.223775</td>\n",
       "      <td>2.116256</td>\n",
       "      <td>140</td>\n",
       "      <td>5500</td>\n",
       "      <td>17</td>\n",
       "      <td>20</td>\n",
       "      <td>10.080587</td>\n",
       "    </tr>\n",
       "    <tr>\n",
       "      <th>9</th>\n",
       "      <td>9</td>\n",
       "      <td>10</td>\n",
       "      <td>0</td>\n",
       "      <td>Rare</td>\n",
       "      <td>gas</td>\n",
       "      <td>turbo</td>\n",
       "      <td>two</td>\n",
       "      <td>hatchback</td>\n",
       "      <td>Rare</td>\n",
       "      <td>front</td>\n",
       "      <td>4.600158</td>\n",
       "      <td>5.182907</td>\n",
       "      <td>4.218036</td>\n",
       "      <td>3.951244</td>\n",
       "      <td>3053</td>\n",
       "      <td>ohc</td>\n",
       "      <td>Rare</td>\n",
       "      <td>131</td>\n",
       "      <td>mpfi</td>\n",
       "      <td>1.141033</td>\n",
       "      <td>1.223775</td>\n",
       "      <td>1.945910</td>\n",
       "      <td>160</td>\n",
       "      <td>5500</td>\n",
       "      <td>16</td>\n",
       "      <td>22</td>\n",
       "      <td>9.790272</td>\n",
       "    </tr>\n",
       "  </tbody>\n",
       "</table>\n",
       "</div>"
      ],
      "text/plain": [
       "   Unnamed: 0  car_ID  symboling CarName fueltype aspiration doornumber  \\\n",
       "0           0       1          3    Rare      gas        std        two   \n",
       "1           1       2          3    Rare      gas        std        two   \n",
       "2           2       3          1    Rare      gas        std        two   \n",
       "3           3       4          2    Rare      gas        std       four   \n",
       "4           4       5          2    Rare      gas        std       four   \n",
       "5           5       6          2    Rare      gas        std        two   \n",
       "6           6       7          1    Rare      gas        std       four   \n",
       "7           7       8          1    Rare      gas        std       four   \n",
       "8           8       9          1    Rare      gas      turbo       four   \n",
       "9           9      10          0    Rare      gas      turbo        two   \n",
       "\n",
       "     carbody drivewheel enginelocation  wheelbase  carlength  carwidth  \\\n",
       "0       Rare        rwd          front   4.484132   5.128715  4.160444   \n",
       "1       Rare        rwd          front   4.484132   5.128715  4.160444   \n",
       "2  hatchback        rwd          front   4.548600   5.142832  4.182050   \n",
       "3      sedan        fwd          front   4.603168   5.173887  4.192680   \n",
       "4      sedan       Rare          front   4.599152   5.173887  4.195697   \n",
       "5      sedan        fwd          front   4.603168   5.177843  4.194190   \n",
       "6      sedan        fwd          front   4.661551   5.261135  4.268298   \n",
       "7      wagon        fwd          front   4.661551   5.261135  4.268298   \n",
       "8      sedan        fwd          front   4.661551   5.261135  4.268298   \n",
       "9  hatchback       Rare          front   4.600158   5.182907  4.218036   \n",
       "\n",
       "   carheight  curbweight enginetype cylindernumber  enginesize fuelsystem  \\\n",
       "0   3.887730        2548       Rare           four         130       mpfi   \n",
       "1   3.887730        2548       Rare           four         130       mpfi   \n",
       "2   3.958907        2823       Rare            six         152       mpfi   \n",
       "3   3.994524        2337        ohc           four         109       mpfi   \n",
       "4   3.994524        2824        ohc           Rare         136       mpfi   \n",
       "5   3.972177        2507        ohc           Rare         136       mpfi   \n",
       "6   4.019980        2844        ohc           Rare         136       mpfi   \n",
       "7   4.019980        2954        ohc           Rare         136       mpfi   \n",
       "8   4.023564        3086        ohc           Rare         131       mpfi   \n",
       "9   3.951244        3053        ohc           Rare         131       mpfi   \n",
       "\n",
       "   boreratio    stroke  compressionratio  horsepower  peakrpm  citympg  \\\n",
       "0   1.244155  0.985817          2.197225         111     5000       21   \n",
       "1   1.244155  0.985817          2.197225         111     5000       21   \n",
       "2   0.985817  1.244155          2.197225         154     5000       19   \n",
       "3   1.160021  1.223775          2.302585         102     5500       24   \n",
       "4   1.160021  1.223775          2.079442         115     5500       18   \n",
       "5   1.160021  1.223775          2.140066         110     5500       19   \n",
       "6   1.160021  1.223775          2.140066         110     5500       19   \n",
       "7   1.160021  1.223775          2.140066         110     5500       19   \n",
       "8   1.141033  1.223775          2.116256         140     5500       17   \n",
       "9   1.141033  1.223775          1.945910         160     5500       16   \n",
       "\n",
       "   highwaympg      price  \n",
       "0          27   9.510075  \n",
       "1          27   9.711116  \n",
       "2          26   9.711116  \n",
       "3          30   9.543235  \n",
       "4          22   9.767095  \n",
       "5          25   9.632335  \n",
       "6          25   9.781885  \n",
       "7          25   9.847975  \n",
       "8          20  10.080587  \n",
       "9          22   9.790272  "
      ]
     },
     "execution_count": 37,
     "metadata": {},
     "output_type": "execute_result"
    }
   ],
   "source": [
    "df = pd.read_csv('cata_data.csv')\n",
    "pd.set_option('display.max_columns',None)\n",
    "df.head(10)\n"
   ]
  },
  {
   "cell_type": "code",
   "execution_count": 63,
   "id": "3224861f",
   "metadata": {},
   "outputs": [],
   "source": [
    "x = df[['price','enginesize']].values.reshape(-1,1)"
   ]
  },
  {
   "cell_type": "code",
   "execution_count": 64,
   "id": "311b181b",
   "metadata": {},
   "outputs": [],
   "source": [
    "y = df[['enginelocation','fueltype']].values.reshape(-1,1)"
   ]
  },
  {
   "cell_type": "code",
   "execution_count": 65,
   "id": "63923795",
   "metadata": {},
   "outputs": [],
   "source": [
    "from sklearn.model_selection import train_test_split"
   ]
  },
  {
   "cell_type": "code",
   "execution_count": 66,
   "id": "f3f94761",
   "metadata": {},
   "outputs": [],
   "source": [
    "xtrain,xtest,ytrain,ytest = train_test_split(x,y,test_size =0.3)"
   ]
  },
  {
   "cell_type": "code",
   "execution_count": 67,
   "id": "938285c5",
   "metadata": {},
   "outputs": [],
   "source": [
    "from sklearn.tree import DecisionTreeClassifier"
   ]
  },
  {
   "cell_type": "code",
   "execution_count": 68,
   "id": "d9e470b9",
   "metadata": {},
   "outputs": [],
   "source": [
    "reg = DecisionTreeClassifier(criterion = 'entropy')"
   ]
  },
  {
   "cell_type": "code",
   "execution_count": 69,
   "id": "fe2f4017",
   "metadata": {},
   "outputs": [
    {
     "data": {
      "text/plain": [
       "DecisionTreeClassifier(criterion='entropy')"
      ]
     },
     "execution_count": 69,
     "metadata": {},
     "output_type": "execute_result"
    }
   ],
   "source": [
    "reg.fit(xtrain,ytrain)"
   ]
  },
  {
   "cell_type": "code",
   "execution_count": 70,
   "id": "b6a6b45b",
   "metadata": {},
   "outputs": [],
   "source": [
    "ypred = reg.predict(xtest)"
   ]
  },
  {
   "cell_type": "code",
   "execution_count": 71,
   "id": "744a4c39",
   "metadata": {},
   "outputs": [
    {
     "data": {
      "text/plain": [
       "array(['gas', 'front', 'front', 'Rare', 'gas', 'Rare', 'gas', 'gas',\n",
       "       'gas', 'front', 'gas', 'gas', 'gas', 'front', 'gas', 'front',\n",
       "       'front', 'front', 'front', 'front', 'front', 'front', 'front',\n",
       "       'front', 'front', 'gas', 'gas', 'gas', 'gas', 'front', 'Rare',\n",
       "       'gas', 'gas', 'front', 'gas', 'front', 'gas', 'front', 'gas',\n",
       "       'gas', 'front', 'front', 'gas', 'front', 'gas', 'gas', 'gas',\n",
       "       'gas', 'front', 'gas', 'gas', 'front', 'gas', 'front', 'front',\n",
       "       'front', 'front', 'gas', 'gas', 'gas', 'gas', 'front', 'front',\n",
       "       'front', 'front', 'gas', 'front', 'front', 'front', 'front',\n",
       "       'front', 'gas', 'gas', 'front', 'front', 'gas', 'gas', 'front',\n",
       "       'gas', 'gas', 'gas', 'gas', 'front', 'gas', 'gas', 'front',\n",
       "       'front', 'front', 'gas', 'front', 'Rare', 'front', 'front',\n",
       "       'front', 'front', 'gas', 'front', 'front', 'gas', 'gas', 'front',\n",
       "       'front', 'front', 'gas', 'gas', 'gas', 'gas', 'front', 'front',\n",
       "       'gas', 'gas', 'gas', 'front', 'gas', 'gas', 'gas', 'gas', 'gas',\n",
       "       'gas', 'gas', 'front', 'front', 'gas'], dtype=object)"
      ]
     },
     "execution_count": 71,
     "metadata": {},
     "output_type": "execute_result"
    }
   ],
   "source": [
    "ypred"
   ]
  },
  {
   "cell_type": "code",
   "execution_count": 72,
   "id": "c04574f4",
   "metadata": {},
   "outputs": [],
   "source": [
    "from sklearn.metrics import confusion_matrix"
   ]
  },
  {
   "cell_type": "code",
   "execution_count": 73,
   "id": "bca34f41",
   "metadata": {},
   "outputs": [],
   "source": [
    "cm = confusion_matrix(ytest,ypred)"
   ]
  },
  {
   "cell_type": "code",
   "execution_count": 74,
   "id": "21094f7d",
   "metadata": {},
   "outputs": [
    {
     "data": {
      "text/plain": [
       "array([[ 1,  1,  5],\n",
       "       [ 2, 57,  0],\n",
       "       [ 1,  0, 56]], dtype=int64)"
      ]
     },
     "execution_count": 74,
     "metadata": {},
     "output_type": "execute_result"
    }
   ],
   "source": [
    "cm"
   ]
  },
  {
   "cell_type": "code",
   "execution_count": 75,
   "id": "fe26c948",
   "metadata": {},
   "outputs": [],
   "source": [
    "import seaborn as sns"
   ]
  },
  {
   "cell_type": "code",
   "execution_count": 76,
   "id": "4e3f1eff",
   "metadata": {},
   "outputs": [
    {
     "data": {
      "text/plain": [
       "<AxesSubplot:>"
      ]
     },
     "execution_count": 76,
     "metadata": {},
     "output_type": "execute_result"
    },
    {
     "data": {
      "image/png": "[encoded data removed]",
      "text/plain": [
       "<Figure size 432x288 with 2 Axes>"
      ]
     },
     "metadata": {
      "needs_background": "light"
     },
     "output_type": "display_data"
    }
   ],
   "source": [
    "sns.heatmap(cm,annot = True)"
   ]
  },
  {
   "cell_type": "code",
   "execution_count": 77,
   "id": "9d879f10",
   "metadata": {},
   "outputs": [],
   "source": [
    "from sklearn.metrics import accuracy_score"
   ]
  },
  {
   "cell_type": "code",
   "execution_count": 78,
   "id": "67505298",
   "metadata": {},
   "outputs": [],
   "source": [
    "ac = accuracy_score(ytest,ypred)"
   ]
  },
  {
   "cell_type": "code",
   "execution_count": 79,
   "id": "12e2ca2b",
   "metadata": {},
   "outputs": [
    {
     "data": {
      "text/plain": [
       "92.6829268292683"
      ]
     },
     "execution_count": 79,
     "metadata": {},
     "output_type": "execute_result"
    }
   ],
   "source": [
    "ac * 100"
   ]
  },
  {
   "cell_type": "code",
   "execution_count": null,
   "id": "d6298a8d",
   "metadata": {},
   "outputs": [],
   "source": []
  }
 ],
 "metadata": {
  "kernelspec": {
   "display_name": "Python 3 (ipykernel)",
   "language": "python",
   "name": "python3"
  },
  "language_info": {
   "codemirror_mode": {
    "name": "ipython",
    "version": 3
   },
   "file_extension": ".py",
   "mimetype": "text/x-python",
   "name": "python",
   "nbconvert_exporter": "python",
   "pygments_lexer": "ipython3",
   "version": "3.9.7"
  }
 },
 "nbformat": 4,
 "nbformat_minor": 5
}
